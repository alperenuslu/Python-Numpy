{
 "cells": [
  {
   "cell_type": "code",
   "execution_count": 1,
   "id": "a7db5baf",
   "metadata": {},
   "outputs": [],
   "source": [
    "import numpy as np"
   ]
  },
  {
   "cell_type": "markdown",
   "id": "ec40bfb5",
   "metadata": {},
   "source": [
    "# Splitting"
   ]
  },
  {
   "cell_type": "code",
   "execution_count": 2,
   "id": "cd1124fa",
   "metadata": {},
   "outputs": [],
   "source": [
    "l=[10,20,30,40,50,60,70,80]"
   ]
  },
  {
   "cell_type": "code",
   "execution_count": 3,
   "id": "43e1043f",
   "metadata": {},
   "outputs": [
    {
     "data": {
      "text/plain": [
       "[10, 20, 30, 40, 50, 60, 70, 80]"
      ]
     },
     "execution_count": 3,
     "metadata": {},
     "output_type": "execute_result"
    }
   ],
   "source": [
    "l"
   ]
  },
  {
   "cell_type": "code",
   "execution_count": 5,
   "id": "d6a92996",
   "metadata": {},
   "outputs": [
    {
     "data": {
      "text/plain": [
       "[array([10, 20]), array([30, 40, 50, 60]), array([70, 80])]"
      ]
     },
     "execution_count": 5,
     "metadata": {},
     "output_type": "execute_result"
    }
   ],
   "source": [
    "#[0,1][2,3,4,5][6,7]\n",
    "np.split(l,[2,6])"
   ]
  },
  {
   "cell_type": "code",
   "execution_count": 6,
   "id": "49f4961b",
   "metadata": {},
   "outputs": [
    {
     "data": {
      "text/plain": [
       "[array([10, 20, 30]), array([40, 50]), array([60, 70, 80])]"
      ]
     },
     "execution_count": 6,
     "metadata": {},
     "output_type": "execute_result"
    }
   ],
   "source": [
    "np.split(l,[3,5])"
   ]
  },
  {
   "cell_type": "code",
   "execution_count": 7,
   "id": "252ea63a",
   "metadata": {},
   "outputs": [],
   "source": [
    "a=np.array([10,20,30,40,50,60,70,80])"
   ]
  },
  {
   "cell_type": "code",
   "execution_count": 8,
   "id": "7cf169fd",
   "metadata": {},
   "outputs": [
    {
     "data": {
      "text/plain": [
       "[array([10, 20]), array([30, 40, 50, 60]), array([70, 80])]"
      ]
     },
     "execution_count": 8,
     "metadata": {},
     "output_type": "execute_result"
    }
   ],
   "source": [
    "np.split(a,[2,6])"
   ]
  },
  {
   "cell_type": "markdown",
   "id": "335c5f00",
   "metadata": {},
   "source": [
    "### Splitin Sonucunu Birden Çok Değişene Eşitleme"
   ]
  },
  {
   "cell_type": "code",
   "execution_count": 9,
   "id": "e36acc3e",
   "metadata": {},
   "outputs": [],
   "source": [
    "a,b=(1,10)"
   ]
  },
  {
   "cell_type": "code",
   "execution_count": 10,
   "id": "8486b19e",
   "metadata": {},
   "outputs": [
    {
     "name": "stdout",
     "output_type": "stream",
     "text": [
      "1\n",
      "10\n"
     ]
    }
   ],
   "source": [
    "print(a)\n",
    "print(b)"
   ]
  },
  {
   "cell_type": "code",
   "execution_count": 11,
   "id": "d8f5b102",
   "metadata": {},
   "outputs": [],
   "source": [
    "x,y,z=np.split(l,[2,6])"
   ]
  },
  {
   "cell_type": "code",
   "execution_count": 12,
   "id": "6708d50e",
   "metadata": {},
   "outputs": [
    {
     "data": {
      "text/plain": [
       "array([10, 20])"
      ]
     },
     "execution_count": 12,
     "metadata": {},
     "output_type": "execute_result"
    }
   ],
   "source": [
    "x"
   ]
  },
  {
   "cell_type": "code",
   "execution_count": 13,
   "id": "886044ef",
   "metadata": {},
   "outputs": [
    {
     "data": {
      "text/plain": [
       "array([30, 40, 50, 60])"
      ]
     },
     "execution_count": 13,
     "metadata": {},
     "output_type": "execute_result"
    }
   ],
   "source": [
    "y"
   ]
  },
  {
   "cell_type": "code",
   "execution_count": 14,
   "id": "3f3a59b6",
   "metadata": {},
   "outputs": [
    {
     "data": {
      "text/plain": [
       "array([70, 80])"
      ]
     },
     "execution_count": 14,
     "metadata": {},
     "output_type": "execute_result"
    }
   ],
   "source": [
    "z"
   ]
  },
  {
   "cell_type": "markdown",
   "id": "1fcfb00a",
   "metadata": {},
   "source": [
    "### vsplit"
   ]
  },
  {
   "cell_type": "code",
   "execution_count": 16,
   "id": "4da18dd2",
   "metadata": {},
   "outputs": [],
   "source": [
    "a=np.arange(20).reshape(2,10)"
   ]
  },
  {
   "cell_type": "code",
   "execution_count": 17,
   "id": "a505a04e",
   "metadata": {},
   "outputs": [
    {
     "data": {
      "text/plain": [
       "array([[ 0,  1,  2,  3,  4,  5,  6,  7,  8,  9],\n",
       "       [10, 11, 12, 13, 14, 15, 16, 17, 18, 19]])"
      ]
     },
     "execution_count": 17,
     "metadata": {},
     "output_type": "execute_result"
    }
   ],
   "source": [
    "a"
   ]
  },
  {
   "cell_type": "code",
   "execution_count": 18,
   "id": "1baea4d8",
   "metadata": {},
   "outputs": [
    {
     "data": {
      "text/plain": [
       "[array([[0, 1, 2, 3, 4, 5, 6, 7, 8, 9]]),\n",
       " array([[10, 11, 12, 13, 14, 15, 16, 17, 18, 19]])]"
      ]
     },
     "execution_count": 18,
     "metadata": {},
     "output_type": "execute_result"
    }
   ],
   "source": [
    "np.vsplit(a,[1])"
   ]
  },
  {
   "cell_type": "code",
   "execution_count": 19,
   "id": "0115fc68",
   "metadata": {},
   "outputs": [
    {
     "data": {
      "text/plain": [
       "array([[0, 1, 2, 3, 4, 5, 6, 7, 8, 9]])"
      ]
     },
     "execution_count": 19,
     "metadata": {},
     "output_type": "execute_result"
    }
   ],
   "source": [
    "np.vsplit(a,[1])[0]"
   ]
  },
  {
   "cell_type": "markdown",
   "id": "84934992",
   "metadata": {},
   "source": [
    "### hsplit"
   ]
  },
  {
   "cell_type": "code",
   "execution_count": 20,
   "id": "aab3ff0b",
   "metadata": {},
   "outputs": [],
   "source": [
    "a=np.arange(20).reshape(2,10)"
   ]
  },
  {
   "cell_type": "code",
   "execution_count": 21,
   "id": "98377c52",
   "metadata": {},
   "outputs": [
    {
     "data": {
      "text/plain": [
       "array([[ 0,  1,  2,  3,  4,  5,  6,  7,  8,  9],\n",
       "       [10, 11, 12, 13, 14, 15, 16, 17, 18, 19]])"
      ]
     },
     "execution_count": 21,
     "metadata": {},
     "output_type": "execute_result"
    }
   ],
   "source": [
    "a"
   ]
  },
  {
   "cell_type": "code",
   "execution_count": 22,
   "id": "c40bf56c",
   "metadata": {},
   "outputs": [
    {
     "data": {
      "text/plain": [
       "[array([[ 0,  1],\n",
       "        [10, 11]]),\n",
       " array([[ 2,  3,  4,  5,  6,  7,  8,  9],\n",
       "        [12, 13, 14, 15, 16, 17, 18, 19]])]"
      ]
     },
     "execution_count": 22,
     "metadata": {},
     "output_type": "execute_result"
    }
   ],
   "source": [
    "np.hsplit(a,[2])"
   ]
  },
  {
   "cell_type": "code",
   "execution_count": 23,
   "id": "b60d68b0",
   "metadata": {},
   "outputs": [
    {
     "data": {
      "text/plain": [
       "array([[ 0,  1],\n",
       "       [10, 11]])"
      ]
     },
     "execution_count": 23,
     "metadata": {},
     "output_type": "execute_result"
    }
   ],
   "source": [
    "np.hsplit(a,[2])[0]"
   ]
  },
  {
   "cell_type": "code",
   "execution_count": 24,
   "id": "4a88c547",
   "metadata": {},
   "outputs": [
    {
     "data": {
      "text/plain": [
       "array([[ 2,  3,  4,  5,  6,  7,  8,  9],\n",
       "       [12, 13, 14, 15, 16, 17, 18, 19]])"
      ]
     },
     "execution_count": 24,
     "metadata": {},
     "output_type": "execute_result"
    }
   ],
   "source": [
    "np.hsplit(a,[2])[1]"
   ]
  },
  {
   "cell_type": "code",
   "execution_count": 25,
   "id": "59a38789",
   "metadata": {},
   "outputs": [
    {
     "data": {
      "text/plain": [
       "(2, 2)"
      ]
     },
     "execution_count": 25,
     "metadata": {},
     "output_type": "execute_result"
    }
   ],
   "source": [
    "np.hsplit(a,[2])[0].shape"
   ]
  },
  {
   "cell_type": "code",
   "execution_count": 26,
   "id": "bd1aedda",
   "metadata": {},
   "outputs": [
    {
     "data": {
      "text/plain": [
       "(2, 8)"
      ]
     },
     "execution_count": 26,
     "metadata": {},
     "output_type": "execute_result"
    }
   ],
   "source": [
    "np.hsplit(a,[2])[1].shape"
   ]
  },
  {
   "cell_type": "code",
   "execution_count": 27,
   "id": "8420f5c2",
   "metadata": {},
   "outputs": [],
   "source": [
    "x,y=np.hsplit(a,[2])"
   ]
  },
  {
   "cell_type": "code",
   "execution_count": 28,
   "id": "7280cb07",
   "metadata": {},
   "outputs": [
    {
     "data": {
      "text/plain": [
       "array([[ 0,  1],\n",
       "       [10, 11]])"
      ]
     },
     "execution_count": 28,
     "metadata": {},
     "output_type": "execute_result"
    }
   ],
   "source": [
    "x"
   ]
  },
  {
   "cell_type": "code",
   "execution_count": 29,
   "id": "4e7a4566",
   "metadata": {},
   "outputs": [
    {
     "data": {
      "text/plain": [
       "array([[ 2,  3,  4,  5,  6,  7,  8,  9],\n",
       "       [12, 13, 14, 15, 16, 17, 18, 19]])"
      ]
     },
     "execution_count": 29,
     "metadata": {},
     "output_type": "execute_result"
    }
   ],
   "source": [
    "y"
   ]
  },
  {
   "cell_type": "code",
   "execution_count": 30,
   "id": "51f0b256",
   "metadata": {},
   "outputs": [],
   "source": [
    "x,y,z=np.hsplit(a,[2,4])"
   ]
  },
  {
   "cell_type": "code",
   "execution_count": 31,
   "id": "d95cd7d6",
   "metadata": {},
   "outputs": [
    {
     "data": {
      "text/plain": [
       "array([[ 0,  1],\n",
       "       [10, 11]])"
      ]
     },
     "execution_count": 31,
     "metadata": {},
     "output_type": "execute_result"
    }
   ],
   "source": [
    "x"
   ]
  },
  {
   "cell_type": "code",
   "execution_count": 32,
   "id": "e70d1f2b",
   "metadata": {},
   "outputs": [
    {
     "data": {
      "text/plain": [
       "array([[ 2,  3],\n",
       "       [12, 13]])"
      ]
     },
     "execution_count": 32,
     "metadata": {},
     "output_type": "execute_result"
    }
   ],
   "source": [
    "y"
   ]
  },
  {
   "cell_type": "code",
   "execution_count": 33,
   "id": "ff1fbaa6",
   "metadata": {},
   "outputs": [
    {
     "data": {
      "text/plain": [
       "array([[ 4,  5,  6,  7,  8,  9],\n",
       "       [14, 15, 16, 17, 18, 19]])"
      ]
     },
     "execution_count": 33,
     "metadata": {},
     "output_type": "execute_result"
    }
   ],
   "source": [
    "z"
   ]
  }
 ],
 "metadata": {
  "kernelspec": {
   "display_name": "Python 3 (ipykernel)",
   "language": "python",
   "name": "python3"
  },
  "language_info": {
   "codemirror_mode": {
    "name": "ipython",
    "version": 3
   },
   "file_extension": ".py",
   "mimetype": "text/x-python",
   "name": "python",
   "nbconvert_exporter": "python",
   "pygments_lexer": "ipython3",
   "version": "3.10.5"
  }
 },
 "nbformat": 4,
 "nbformat_minor": 5
}
