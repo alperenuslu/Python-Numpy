{
 "cells": [
  {
   "cell_type": "code",
   "execution_count": 1,
   "id": "111a0e75",
   "metadata": {},
   "outputs": [],
   "source": [
    "import numpy as np"
   ]
  },
  {
   "cell_type": "markdown",
   "id": "7542cf93",
   "metadata": {},
   "source": [
    "# Fancy Indexing\n",
    "* Şimdiye kadar hep belirli elemanları, belirli kesitlerdeki elemanları, veya belirli sayıda atlaya atlaya elemanları almayı gördük. Fancy indexing ile bir kaç tane belirli indexteki elemanı bana döndür diyebilmiş olacağız."
   ]
  },
  {
   "cell_type": "code",
   "execution_count": 2,
   "id": "26d64901",
   "metadata": {},
   "outputs": [],
   "source": [
    "x=np.arange(1,15)"
   ]
  },
  {
   "cell_type": "code",
   "execution_count": 4,
   "id": "433e4ae5",
   "metadata": {},
   "outputs": [
    {
     "data": {
      "text/plain": [
       "array([ 1,  2,  3,  4,  5,  6,  7,  8,  9, 10, 11, 12, 13, 14])"
      ]
     },
     "execution_count": 4,
     "metadata": {},
     "output_type": "execute_result"
    }
   ],
   "source": [
    "x"
   ]
  },
  {
   "cell_type": "code",
   "execution_count": 5,
   "id": "e85f768e",
   "metadata": {},
   "outputs": [],
   "source": [
    "idxs=[4,5,7,11]"
   ]
  },
  {
   "cell_type": "code",
   "execution_count": 6,
   "id": "dcdca046",
   "metadata": {},
   "outputs": [
    {
     "data": {
      "text/plain": [
       "array([ 5,  6,  8, 12])"
      ]
     },
     "execution_count": 6,
     "metadata": {},
     "output_type": "execute_result"
    }
   ],
   "source": [
    "#4,5,7,11 indexteki elemanları döndürür.\n",
    "x[idxs]"
   ]
  },
  {
   "cell_type": "code",
   "execution_count": 7,
   "id": "527bb172",
   "metadata": {},
   "outputs": [],
   "source": [
    "a=np.arange(12).reshape(3,4)"
   ]
  },
  {
   "cell_type": "code",
   "execution_count": 8,
   "id": "a5e47d89",
   "metadata": {},
   "outputs": [
    {
     "data": {
      "text/plain": [
       "array([[ 0,  1,  2,  3],\n",
       "       [ 4,  5,  6,  7],\n",
       "       [ 8,  9, 10, 11]])"
      ]
     },
     "execution_count": 8,
     "metadata": {},
     "output_type": "execute_result"
    }
   ],
   "source": [
    "a"
   ]
  },
  {
   "cell_type": "code",
   "execution_count": 9,
   "id": "01d8846a",
   "metadata": {},
   "outputs": [
    {
     "data": {
      "text/plain": [
       "array([1, 5])"
      ]
     },
     "execution_count": 9,
     "metadata": {},
     "output_type": "execute_result"
    }
   ],
   "source": [
    "a[0:2,1]"
   ]
  },
  {
   "cell_type": "code",
   "execution_count": 10,
   "id": "2058e9dc",
   "metadata": {},
   "outputs": [
    {
     "data": {
      "text/plain": [
       "(2,)"
      ]
     },
     "execution_count": 10,
     "metadata": {},
     "output_type": "execute_result"
    }
   ],
   "source": [
    "a[0:2,1].shape"
   ]
  },
  {
   "cell_type": "code",
   "execution_count": 11,
   "id": "3a5b0b4b",
   "metadata": {},
   "outputs": [
    {
     "data": {
      "text/plain": [
       "array([[1, 2],\n",
       "       [5, 6]])"
      ]
     },
     "execution_count": 11,
     "metadata": {},
     "output_type": "execute_result"
    }
   ],
   "source": [
    "a[0:2,1:3]"
   ]
  },
  {
   "cell_type": "code",
   "execution_count": 12,
   "id": "fbf13b20",
   "metadata": {},
   "outputs": [
    {
     "data": {
      "text/plain": [
       "(2, 2)"
      ]
     },
     "execution_count": 12,
     "metadata": {},
     "output_type": "execute_result"
    }
   ],
   "source": [
    "a[0:2,1:3].shape"
   ]
  },
  {
   "cell_type": "code",
   "execution_count": 13,
   "id": "c7861ead",
   "metadata": {},
   "outputs": [
    {
     "data": {
      "text/plain": [
       "array([[ 0,  1,  2,  3],\n",
       "       [ 4,  5,  6,  7],\n",
       "       [ 8,  9, 10, 11]])"
      ]
     },
     "execution_count": 13,
     "metadata": {},
     "output_type": "execute_result"
    }
   ],
   "source": [
    "a"
   ]
  },
  {
   "cell_type": "code",
   "execution_count": 14,
   "id": "5dbfefea",
   "metadata": {},
   "outputs": [
    {
     "data": {
      "text/plain": [
       "array([1, 3])"
      ]
     },
     "execution_count": 14,
     "metadata": {},
     "output_type": "execute_result"
    }
   ],
   "source": [
    "a[0,[1,3]]"
   ]
  },
  {
   "cell_type": "code",
   "execution_count": 15,
   "id": "877600a0",
   "metadata": {},
   "outputs": [
    {
     "data": {
      "text/plain": [
       "array([[ 1,  3],\n",
       "       [ 5,  7],\n",
       "       [ 9, 11]])"
      ]
     },
     "execution_count": 15,
     "metadata": {},
     "output_type": "execute_result"
    }
   ],
   "source": [
    "a[0:,[1,3]]"
   ]
  },
  {
   "cell_type": "code",
   "execution_count": 16,
   "id": "7732e4d6",
   "metadata": {},
   "outputs": [],
   "source": [
    "a=np.arange(20).reshape(4,5)"
   ]
  },
  {
   "cell_type": "code",
   "execution_count": 17,
   "id": "3547758b",
   "metadata": {},
   "outputs": [
    {
     "data": {
      "text/plain": [
       "array([[ 0,  1,  2,  3,  4],\n",
       "       [ 5,  6,  7,  8,  9],\n",
       "       [10, 11, 12, 13, 14],\n",
       "       [15, 16, 17, 18, 19]])"
      ]
     },
     "execution_count": 17,
     "metadata": {},
     "output_type": "execute_result"
    }
   ],
   "source": [
    "a"
   ]
  },
  {
   "cell_type": "code",
   "execution_count": 18,
   "id": "e250fe97",
   "metadata": {},
   "outputs": [],
   "source": [
    "idx1=[1,3,2]"
   ]
  },
  {
   "cell_type": "code",
   "execution_count": 19,
   "id": "0464cfe5",
   "metadata": {},
   "outputs": [],
   "source": [
    "idx2=[3,0,2]"
   ]
  },
  {
   "cell_type": "code",
   "execution_count": 20,
   "id": "16358f29",
   "metadata": {},
   "outputs": [
    {
     "data": {
      "text/plain": [
       "array([ 8, 15, 12])"
      ]
     },
     "execution_count": 20,
     "metadata": {},
     "output_type": "execute_result"
    }
   ],
   "source": [
    "a[idx1,idx2]"
   ]
  },
  {
   "cell_type": "code",
   "execution_count": 21,
   "id": "a84db226",
   "metadata": {},
   "outputs": [
    {
     "ename": "IndexError",
     "evalue": "index 3 is out of bounds for axis 0 with size 3",
     "output_type": "error",
     "traceback": [
      "\u001b[1;31m---------------------------------------------------------------------------\u001b[0m",
      "\u001b[1;31mIndexError\u001b[0m                                Traceback (most recent call last)",
      "Input \u001b[1;32mIn [21]\u001b[0m, in \u001b[0;36m<cell line: 1>\u001b[1;34m()\u001b[0m\n\u001b[1;32m----> 1\u001b[0m \u001b[43ma\u001b[49m\u001b[43m[\u001b[49m\u001b[43midx1\u001b[49m\u001b[43m]\u001b[49m\u001b[43m[\u001b[49m\u001b[43midx2\u001b[49m\u001b[43m]\u001b[49m\n",
      "\u001b[1;31mIndexError\u001b[0m: index 3 is out of bounds for axis 0 with size 3"
     ]
    }
   ],
   "source": [
    "a[idx1][idx2]"
   ]
  },
  {
   "cell_type": "markdown",
   "id": "4bf065a4",
   "metadata": {},
   "source": [
    "* Fancy indexing sonucunu belirli değerlere eşitlemek"
   ]
  },
  {
   "cell_type": "code",
   "execution_count": 22,
   "id": "e87ee916",
   "metadata": {},
   "outputs": [
    {
     "data": {
      "text/plain": [
       "array([ 1,  2,  3,  4,  5,  6,  7,  8,  9, 10, 11, 12, 13, 14])"
      ]
     },
     "execution_count": 22,
     "metadata": {},
     "output_type": "execute_result"
    }
   ],
   "source": [
    "x"
   ]
  },
  {
   "cell_type": "code",
   "execution_count": 24,
   "id": "2acdaf4b",
   "metadata": {},
   "outputs": [],
   "source": [
    "x[[1,2,3]]=20"
   ]
  },
  {
   "cell_type": "code",
   "execution_count": 25,
   "id": "af017a18",
   "metadata": {},
   "outputs": [
    {
     "data": {
      "text/plain": [
       "array([ 1, 20, 20, 20,  5,  6,  7,  8,  9, 10, 11, 12, 13, 14])"
      ]
     },
     "execution_count": 25,
     "metadata": {},
     "output_type": "execute_result"
    }
   ],
   "source": [
    "x"
   ]
  },
  {
   "cell_type": "code",
   "execution_count": 26,
   "id": "2a055e6e",
   "metadata": {},
   "outputs": [],
   "source": [
    "x=np.arange(9)"
   ]
  },
  {
   "cell_type": "code",
   "execution_count": 27,
   "id": "f59bf88e",
   "metadata": {},
   "outputs": [
    {
     "data": {
      "text/plain": [
       "array([0, 1, 2, 3, 4, 5, 6, 7, 8])"
      ]
     },
     "execution_count": 27,
     "metadata": {},
     "output_type": "execute_result"
    }
   ],
   "source": [
    "x"
   ]
  },
  {
   "cell_type": "code",
   "execution_count": 28,
   "id": "8460f1fe",
   "metadata": {},
   "outputs": [],
   "source": [
    "x[[1,2,5]]=[100,200,300]"
   ]
  },
  {
   "cell_type": "code",
   "execution_count": 29,
   "id": "8837a9b8",
   "metadata": {},
   "outputs": [
    {
     "data": {
      "text/plain": [
       "array([  0, 100, 200,   3,   4, 300,   6,   7,   8])"
      ]
     },
     "execution_count": 29,
     "metadata": {},
     "output_type": "execute_result"
    }
   ],
   "source": [
    "x"
   ]
  }
 ],
 "metadata": {
  "kernelspec": {
   "display_name": "Python 3 (ipykernel)",
   "language": "python",
   "name": "python3"
  },
  "language_info": {
   "codemirror_mode": {
    "name": "ipython",
    "version": 3
   },
   "file_extension": ".py",
   "mimetype": "text/x-python",
   "name": "python",
   "nbconvert_exporter": "python",
   "pygments_lexer": "ipython3",
   "version": "3.10.5"
  }
 },
 "nbformat": 4,
 "nbformat_minor": 5
}
