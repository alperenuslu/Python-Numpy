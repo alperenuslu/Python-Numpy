{
 "cells": [
  {
   "cell_type": "code",
   "execution_count": 1,
   "id": "564c2210",
   "metadata": {},
   "outputs": [],
   "source": [
    "import numpy as np"
   ]
  },
  {
   "cell_type": "markdown",
   "id": "9be1611e",
   "metadata": {},
   "source": [
    "# Random Integerlar ile Array Oluşturmak\n",
    "* [low,high)"
   ]
  },
  {
   "cell_type": "code",
   "execution_count": 2,
   "id": "8930719a",
   "metadata": {},
   "outputs": [
    {
     "data": {
      "text/plain": [
       "array([[4, 6, 3, 4],\n",
       "       [2, 1, 5, 5],\n",
       "       [2, 8, 3, 3]])"
      ]
     },
     "execution_count": 2,
     "metadata": {},
     "output_type": "execute_result"
    }
   ],
   "source": [
    "np.random.randint(1,10,(3,4))"
   ]
  },
  {
   "cell_type": "code",
   "execution_count": 3,
   "id": "e24fbcd6",
   "metadata": {},
   "outputs": [
    {
     "data": {
      "text/plain": [
       "array([[[5, 5, 2, 8, 9],\n",
       "        [2, 2, 3, 7, 4],\n",
       "        [2, 3, 6, 4, 6],\n",
       "        [6, 4, 5, 7, 6],\n",
       "        [8, 5, 7, 2, 8]],\n",
       "\n",
       "       [[9, 1, 3, 6, 9],\n",
       "        [3, 7, 4, 5, 2],\n",
       "        [8, 5, 3, 2, 1],\n",
       "        [5, 2, 4, 3, 1],\n",
       "        [1, 6, 5, 9, 9]],\n",
       "\n",
       "       [[2, 6, 3, 3, 9],\n",
       "        [5, 6, 1, 4, 6],\n",
       "        [8, 3, 7, 2, 7],\n",
       "        [6, 9, 5, 8, 3],\n",
       "        [5, 6, 8, 2, 3]]])"
      ]
     },
     "execution_count": 3,
     "metadata": {},
     "output_type": "execute_result"
    }
   ],
   "source": [
    "np.random.randint(1,10,(3,5,5))"
   ]
  },
  {
   "cell_type": "code",
   "execution_count": 4,
   "id": "3f4a388f",
   "metadata": {},
   "outputs": [
    {
     "data": {
      "text/plain": [
       "1"
      ]
     },
     "execution_count": 4,
     "metadata": {},
     "output_type": "execute_result"
    }
   ],
   "source": [
    "np.random.randint(1,2)"
   ]
  },
  {
   "cell_type": "code",
   "execution_count": 7,
   "id": "f658b034",
   "metadata": {},
   "outputs": [],
   "source": [
    "d={}\n",
    "for _ in range(20000):\n",
    "    val = np.random.randint(1,11)\n",
    "    if val not in d:\n",
    "        d[val]=1\n",
    "    else:\n",
    "        d[val]+=1"
   ]
  },
  {
   "cell_type": "code",
   "execution_count": 8,
   "id": "0f05b3e8",
   "metadata": {},
   "outputs": [
    {
     "data": {
      "text/plain": [
       "{5: 2010,\n",
       " 7: 1969,\n",
       " 6: 2001,\n",
       " 8: 1973,\n",
       " 1: 2015,\n",
       " 3: 2060,\n",
       " 9: 2054,\n",
       " 4: 2046,\n",
       " 2: 1946,\n",
       " 10: 1926}"
      ]
     },
     "execution_count": 8,
     "metadata": {},
     "output_type": "execute_result"
    }
   ],
   "source": [
    "d"
   ]
  },
  {
   "cell_type": "code",
   "execution_count": null,
   "id": "d7773e36",
   "metadata": {},
   "outputs": [],
   "source": []
  }
 ],
 "metadata": {
  "kernelspec": {
   "display_name": "Python 3 (ipykernel)",
   "language": "python",
   "name": "python3"
  },
  "language_info": {
   "codemirror_mode": {
    "name": "ipython",
    "version": 3
   },
   "file_extension": ".py",
   "mimetype": "text/x-python",
   "name": "python",
   "nbconvert_exporter": "python",
   "pygments_lexer": "ipython3",
   "version": "3.10.5"
  }
 },
 "nbformat": 4,
 "nbformat_minor": 5
}
