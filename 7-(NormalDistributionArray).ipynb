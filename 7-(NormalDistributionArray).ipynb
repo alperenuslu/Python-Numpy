{
 "cells": [
  {
   "cell_type": "code",
   "execution_count": 1,
   "id": "4e68ea68",
   "metadata": {},
   "outputs": [],
   "source": [
    "import numpy as np"
   ]
  },
  {
   "cell_type": "markdown",
   "id": "b3a6a759",
   "metadata": {},
   "source": [
    "# Normal Distribution'dan Çekilmiş Değerler İle Array Oluşturmak\n",
    "*(mean,std,array size)"
   ]
  },
  {
   "cell_type": "code",
   "execution_count": 2,
   "id": "6846eefd",
   "metadata": {},
   "outputs": [
    {
     "data": {
      "text/plain": [
       "array([[-2.16301727,  1.07724324, -0.37537914,  1.1375475 , -1.73600839],\n",
       "       [ 1.3207776 ,  0.22225776, -1.08998107, -0.73521591,  0.79250561],\n",
       "       [-0.69099323,  0.68709445,  1.04943728, -0.20188369, -0.21836428],\n",
       "       [-1.4345639 ,  0.9267783 , -0.05939241,  0.16247356, -0.21643077]])"
      ]
     },
     "execution_count": 2,
     "metadata": {},
     "output_type": "execute_result"
    }
   ],
   "source": [
    "np.random.normal(0,1,(4,5))"
   ]
  },
  {
   "cell_type": "code",
   "execution_count": 3,
   "id": "818d17f9",
   "metadata": {},
   "outputs": [
    {
     "data": {
      "text/plain": [
       "array([[   6.48858373,  -59.61312497, -142.08731938,   -7.27339385,\n",
       "          84.02863875],\n",
       "       [  95.66984067,  -58.18866467,   43.11915917,   66.53418934,\n",
       "         151.98746422],\n",
       "       [ -38.07622987,   68.8519236 ,   99.0788878 , -124.67053194,\n",
       "          40.13925859],\n",
       "       [  64.73484626,  177.42075422, -115.70718096,  224.41426912,\n",
       "        -103.49897969]])"
      ]
     },
     "execution_count": 3,
     "metadata": {},
     "output_type": "execute_result"
    }
   ],
   "source": [
    "np.random.normal(0,100,(4,5))"
   ]
  },
  {
   "cell_type": "code",
   "execution_count": 5,
   "id": "1090ac74",
   "metadata": {},
   "outputs": [
    {
     "data": {
      "text/plain": [
       "array([[ 132.70669752,  130.63520174,   61.58994392,   41.54005147,\n",
       "          10.66342209],\n",
       "       [  19.3033181 ,  -82.52951713,   45.74575157, -146.03679149,\n",
       "        -119.64685102],\n",
       "       [-169.65452718,   45.72995339,  -16.84189538,   76.02030547,\n",
       "         138.84294685],\n",
       "       [  -7.28300234,  -78.00507215,  -43.12369483, -149.35765126,\n",
       "         163.80287696]])"
      ]
     },
     "execution_count": 5,
     "metadata": {},
     "output_type": "execute_result"
    }
   ],
   "source": [
    "np.random.normal(10,100,(4,5))"
   ]
  },
  {
   "cell_type": "code",
   "execution_count": 6,
   "id": "ab77e8f9",
   "metadata": {},
   "outputs": [
    {
     "data": {
      "text/plain": [
       "array([[10.04061904, 10.29465601, 10.93241639, 11.52205414,  8.62898158],\n",
       "       [ 8.75674505, 10.47334408, 11.03005576,  9.4936861 ,  9.93373913],\n",
       "       [ 8.89979715,  9.6942831 , 10.03398794, 11.13255568,  9.83044563],\n",
       "       [10.83919559,  8.76742503, 11.81917701, 10.83745364,  9.62150046]])"
      ]
     },
     "execution_count": 6,
     "metadata": {},
     "output_type": "execute_result"
    }
   ],
   "source": [
    "np.random.normal(10,1,(4,5))"
   ]
  },
  {
   "cell_type": "code",
   "execution_count": null,
   "id": "0fc3253c",
   "metadata": {},
   "outputs": [],
   "source": []
  }
 ],
 "metadata": {
  "kernelspec": {
   "display_name": "Python 3 (ipykernel)",
   "language": "python",
   "name": "python3"
  },
  "language_info": {
   "codemirror_mode": {
    "name": "ipython",
    "version": 3
   },
   "file_extension": ".py",
   "mimetype": "text/x-python",
   "name": "python",
   "nbconvert_exporter": "python",
   "pygments_lexer": "ipython3",
   "version": "3.10.5"
  }
 },
 "nbformat": 4,
 "nbformat_minor": 5
}
